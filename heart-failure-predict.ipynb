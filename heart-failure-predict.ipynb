{
 "cells": [
  {
   "cell_type": "code",
   "execution_count": 1,
   "id": "ad7fe54b",
   "metadata": {
    "execution": {
     "iopub.execute_input": "2021-12-21T23:35:11.703430Z",
     "iopub.status.busy": "2021-12-21T23:35:11.701637Z",
     "iopub.status.idle": "2021-12-21T23:35:12.791535Z",
     "shell.execute_reply": "2021-12-21T23:35:12.792129Z"
    },
    "papermill": {
     "duration": 1.128689,
     "end_time": "2021-12-21T23:35:12.792459",
     "exception": false,
     "start_time": "2021-12-21T23:35:11.663770",
     "status": "completed"
    },
    "tags": []
   },
   "outputs": [],
   "source": [
    "import pandas as pd\n",
    "import numpy as np\n",
    "import matplotlib.pyplot as plt\n",
    "import seaborn as sns"
   ]
  },
  {
   "cell_type": "code",
   "execution_count": 2,
   "id": "d1d6917c",
   "metadata": {
    "execution": {
     "iopub.execute_input": "2021-12-21T23:35:12.862472Z",
     "iopub.status.busy": "2021-12-21T23:35:12.861799Z",
     "iopub.status.idle": "2021-12-21T23:35:12.902337Z",
     "shell.execute_reply": "2021-12-21T23:35:12.902862Z",
     "shell.execute_reply.started": "2021-12-21T21:48:12.733774Z"
    },
    "papermill": {
     "duration": 0.078156,
     "end_time": "2021-12-21T23:35:12.903071",
     "exception": false,
     "start_time": "2021-12-21T23:35:12.824915",
     "status": "completed"
    },
    "tags": []
   },
   "outputs": [
    {
     "data": {
      "text/html": [
       "<div>\n",
       "<style scoped>\n",
       "    .dataframe tbody tr th:only-of-type {\n",
       "        vertical-align: middle;\n",
       "    }\n",
       "\n",
       "    .dataframe tbody tr th {\n",
       "        vertical-align: top;\n",
       "    }\n",
       "\n",
       "    .dataframe thead th {\n",
       "        text-align: right;\n",
       "    }\n",
       "</style>\n",
       "<table border=\"1\" class=\"dataframe\">\n",
       "  <thead>\n",
       "    <tr style=\"text-align: right;\">\n",
       "      <th></th>\n",
       "      <th>Age</th>\n",
       "      <th>Sex</th>\n",
       "      <th>ChestPainType</th>\n",
       "      <th>RestingBP</th>\n",
       "      <th>Cholesterol</th>\n",
       "      <th>FastingBS</th>\n",
       "      <th>RestingECG</th>\n",
       "      <th>MaxHR</th>\n",
       "      <th>ExerciseAngina</th>\n",
       "      <th>Oldpeak</th>\n",
       "      <th>ST_Slope</th>\n",
       "      <th>HeartDisease</th>\n",
       "    </tr>\n",
       "  </thead>\n",
       "  <tbody>\n",
       "    <tr>\n",
       "      <th>0</th>\n",
       "      <td>40</td>\n",
       "      <td>M</td>\n",
       "      <td>ATA</td>\n",
       "      <td>140</td>\n",
       "      <td>289</td>\n",
       "      <td>0</td>\n",
       "      <td>Normal</td>\n",
       "      <td>172</td>\n",
       "      <td>N</td>\n",
       "      <td>0.0</td>\n",
       "      <td>Up</td>\n",
       "      <td>0</td>\n",
       "    </tr>\n",
       "    <tr>\n",
       "      <th>1</th>\n",
       "      <td>49</td>\n",
       "      <td>F</td>\n",
       "      <td>NAP</td>\n",
       "      <td>160</td>\n",
       "      <td>180</td>\n",
       "      <td>0</td>\n",
       "      <td>Normal</td>\n",
       "      <td>156</td>\n",
       "      <td>N</td>\n",
       "      <td>1.0</td>\n",
       "      <td>Flat</td>\n",
       "      <td>1</td>\n",
       "    </tr>\n",
       "    <tr>\n",
       "      <th>2</th>\n",
       "      <td>37</td>\n",
       "      <td>M</td>\n",
       "      <td>ATA</td>\n",
       "      <td>130</td>\n",
       "      <td>283</td>\n",
       "      <td>0</td>\n",
       "      <td>ST</td>\n",
       "      <td>98</td>\n",
       "      <td>N</td>\n",
       "      <td>0.0</td>\n",
       "      <td>Up</td>\n",
       "      <td>0</td>\n",
       "    </tr>\n",
       "    <tr>\n",
       "      <th>3</th>\n",
       "      <td>48</td>\n",
       "      <td>F</td>\n",
       "      <td>ASY</td>\n",
       "      <td>138</td>\n",
       "      <td>214</td>\n",
       "      <td>0</td>\n",
       "      <td>Normal</td>\n",
       "      <td>108</td>\n",
       "      <td>Y</td>\n",
       "      <td>1.5</td>\n",
       "      <td>Flat</td>\n",
       "      <td>1</td>\n",
       "    </tr>\n",
       "    <tr>\n",
       "      <th>4</th>\n",
       "      <td>54</td>\n",
       "      <td>M</td>\n",
       "      <td>NAP</td>\n",
       "      <td>150</td>\n",
       "      <td>195</td>\n",
       "      <td>0</td>\n",
       "      <td>Normal</td>\n",
       "      <td>122</td>\n",
       "      <td>N</td>\n",
       "      <td>0.0</td>\n",
       "      <td>Up</td>\n",
       "      <td>0</td>\n",
       "    </tr>\n",
       "  </tbody>\n",
       "</table>\n",
       "</div>"
      ],
      "text/plain": [
       "   Age Sex ChestPainType  RestingBP  Cholesterol  FastingBS RestingECG  MaxHR  \\\n",
       "0   40   M           ATA        140          289          0     Normal    172   \n",
       "1   49   F           NAP        160          180          0     Normal    156   \n",
       "2   37   M           ATA        130          283          0         ST     98   \n",
       "3   48   F           ASY        138          214          0     Normal    108   \n",
       "4   54   M           NAP        150          195          0     Normal    122   \n",
       "\n",
       "  ExerciseAngina  Oldpeak ST_Slope  HeartDisease  \n",
       "0              N      0.0       Up             0  \n",
       "1              N      1.0     Flat             1  \n",
       "2              N      0.0       Up             0  \n",
       "3              Y      1.5     Flat             1  \n",
       "4              N      0.0       Up             0  "
      ]
     },
     "execution_count": 2,
     "metadata": {},
     "output_type": "execute_result"
    }
   ],
   "source": [
    "heart = pd.read_csv('../input/heart-failure-prediction/heart.csv')\n",
    "heart.head() "
   ]
  },
  {
   "cell_type": "code",
   "execution_count": 3,
   "id": "98280583",
   "metadata": {
    "execution": {
     "iopub.execute_input": "2021-12-21T23:35:12.976172Z",
     "iopub.status.busy": "2021-12-21T23:35:12.975434Z",
     "iopub.status.idle": "2021-12-21T23:35:12.978299Z",
     "shell.execute_reply": "2021-12-21T23:35:12.978783Z",
     "shell.execute_reply.started": "2021-12-21T21:48:18.873329Z"
    },
    "papermill": {
     "duration": 0.042657,
     "end_time": "2021-12-21T23:35:12.978973",
     "exception": false,
     "start_time": "2021-12-21T23:35:12.936316",
     "status": "completed"
    },
    "tags": []
   },
   "outputs": [
    {
     "data": {
      "text/plain": [
       "(918, 12)"
      ]
     },
     "execution_count": 3,
     "metadata": {},
     "output_type": "execute_result"
    }
   ],
   "source": [
    "heart.shape"
   ]
  },
  {
   "cell_type": "code",
   "execution_count": 4,
   "id": "dfd256fb",
   "metadata": {
    "execution": {
     "iopub.execute_input": "2021-12-21T23:35:13.053499Z",
     "iopub.status.busy": "2021-12-21T23:35:13.052796Z",
     "iopub.status.idle": "2021-12-21T23:35:13.074565Z",
     "shell.execute_reply": "2021-12-21T23:35:13.075196Z",
     "shell.execute_reply.started": "2021-12-21T21:48:20.116441Z"
    },
    "papermill": {
     "duration": 0.062552,
     "end_time": "2021-12-21T23:35:13.075374",
     "exception": false,
     "start_time": "2021-12-21T23:35:13.012822",
     "status": "completed"
    },
    "tags": []
   },
   "outputs": [
    {
     "name": "stdout",
     "output_type": "stream",
     "text": [
      "<class 'pandas.core.frame.DataFrame'>\n",
      "RangeIndex: 918 entries, 0 to 917\n",
      "Data columns (total 12 columns):\n",
      " #   Column          Non-Null Count  Dtype  \n",
      "---  ------          --------------  -----  \n",
      " 0   Age             918 non-null    int64  \n",
      " 1   Sex             918 non-null    object \n",
      " 2   ChestPainType   918 non-null    object \n",
      " 3   RestingBP       918 non-null    int64  \n",
      " 4   Cholesterol     918 non-null    int64  \n",
      " 5   FastingBS       918 non-null    int64  \n",
      " 6   RestingECG      918 non-null    object \n",
      " 7   MaxHR           918 non-null    int64  \n",
      " 8   ExerciseAngina  918 non-null    object \n",
      " 9   Oldpeak         918 non-null    float64\n",
      " 10  ST_Slope        918 non-null    object \n",
      " 11  HeartDisease    918 non-null    int64  \n",
      "dtypes: float64(1), int64(6), object(5)\n",
      "memory usage: 86.2+ KB\n"
     ]
    }
   ],
   "source": [
    "heart.info()"
   ]
  },
  {
   "cell_type": "code",
   "execution_count": 5,
   "id": "f2f90b14",
   "metadata": {
    "execution": {
     "iopub.execute_input": "2021-12-21T23:35:13.149927Z",
     "iopub.status.busy": "2021-12-21T23:35:13.149246Z",
     "iopub.status.idle": "2021-12-21T23:35:13.181236Z",
     "shell.execute_reply": "2021-12-21T23:35:13.180556Z",
     "shell.execute_reply.started": "2021-12-21T21:48:25.184358Z"
    },
    "papermill": {
     "duration": 0.068826,
     "end_time": "2021-12-21T23:35:13.181393",
     "exception": false,
     "start_time": "2021-12-21T23:35:13.112567",
     "status": "completed"
    },
    "tags": []
   },
   "outputs": [
    {
     "data": {
      "text/html": [
       "<div>\n",
       "<style scoped>\n",
       "    .dataframe tbody tr th:only-of-type {\n",
       "        vertical-align: middle;\n",
       "    }\n",
       "\n",
       "    .dataframe tbody tr th {\n",
       "        vertical-align: top;\n",
       "    }\n",
       "\n",
       "    .dataframe thead th {\n",
       "        text-align: right;\n",
       "    }\n",
       "</style>\n",
       "<table border=\"1\" class=\"dataframe\">\n",
       "  <thead>\n",
       "    <tr style=\"text-align: right;\">\n",
       "      <th></th>\n",
       "      <th>Age</th>\n",
       "      <th>RestingBP</th>\n",
       "      <th>Cholesterol</th>\n",
       "      <th>FastingBS</th>\n",
       "      <th>MaxHR</th>\n",
       "      <th>Oldpeak</th>\n",
       "      <th>HeartDisease</th>\n",
       "    </tr>\n",
       "  </thead>\n",
       "  <tbody>\n",
       "    <tr>\n",
       "      <th>count</th>\n",
       "      <td>918.000000</td>\n",
       "      <td>918.000000</td>\n",
       "      <td>918.000000</td>\n",
       "      <td>918.000000</td>\n",
       "      <td>918.000000</td>\n",
       "      <td>918.000000</td>\n",
       "      <td>918.000000</td>\n",
       "    </tr>\n",
       "    <tr>\n",
       "      <th>mean</th>\n",
       "      <td>53.510893</td>\n",
       "      <td>132.396514</td>\n",
       "      <td>198.799564</td>\n",
       "      <td>0.233115</td>\n",
       "      <td>136.809368</td>\n",
       "      <td>0.887364</td>\n",
       "      <td>0.553377</td>\n",
       "    </tr>\n",
       "    <tr>\n",
       "      <th>std</th>\n",
       "      <td>9.432617</td>\n",
       "      <td>18.514154</td>\n",
       "      <td>109.384145</td>\n",
       "      <td>0.423046</td>\n",
       "      <td>25.460334</td>\n",
       "      <td>1.066570</td>\n",
       "      <td>0.497414</td>\n",
       "    </tr>\n",
       "    <tr>\n",
       "      <th>min</th>\n",
       "      <td>28.000000</td>\n",
       "      <td>0.000000</td>\n",
       "      <td>0.000000</td>\n",
       "      <td>0.000000</td>\n",
       "      <td>60.000000</td>\n",
       "      <td>-2.600000</td>\n",
       "      <td>0.000000</td>\n",
       "    </tr>\n",
       "    <tr>\n",
       "      <th>25%</th>\n",
       "      <td>47.000000</td>\n",
       "      <td>120.000000</td>\n",
       "      <td>173.250000</td>\n",
       "      <td>0.000000</td>\n",
       "      <td>120.000000</td>\n",
       "      <td>0.000000</td>\n",
       "      <td>0.000000</td>\n",
       "    </tr>\n",
       "    <tr>\n",
       "      <th>50%</th>\n",
       "      <td>54.000000</td>\n",
       "      <td>130.000000</td>\n",
       "      <td>223.000000</td>\n",
       "      <td>0.000000</td>\n",
       "      <td>138.000000</td>\n",
       "      <td>0.600000</td>\n",
       "      <td>1.000000</td>\n",
       "    </tr>\n",
       "    <tr>\n",
       "      <th>75%</th>\n",
       "      <td>60.000000</td>\n",
       "      <td>140.000000</td>\n",
       "      <td>267.000000</td>\n",
       "      <td>0.000000</td>\n",
       "      <td>156.000000</td>\n",
       "      <td>1.500000</td>\n",
       "      <td>1.000000</td>\n",
       "    </tr>\n",
       "    <tr>\n",
       "      <th>max</th>\n",
       "      <td>77.000000</td>\n",
       "      <td>200.000000</td>\n",
       "      <td>603.000000</td>\n",
       "      <td>1.000000</td>\n",
       "      <td>202.000000</td>\n",
       "      <td>6.200000</td>\n",
       "      <td>1.000000</td>\n",
       "    </tr>\n",
       "  </tbody>\n",
       "</table>\n",
       "</div>"
      ],
      "text/plain": [
       "              Age   RestingBP  Cholesterol   FastingBS       MaxHR  \\\n",
       "count  918.000000  918.000000   918.000000  918.000000  918.000000   \n",
       "mean    53.510893  132.396514   198.799564    0.233115  136.809368   \n",
       "std      9.432617   18.514154   109.384145    0.423046   25.460334   \n",
       "min     28.000000    0.000000     0.000000    0.000000   60.000000   \n",
       "25%     47.000000  120.000000   173.250000    0.000000  120.000000   \n",
       "50%     54.000000  130.000000   223.000000    0.000000  138.000000   \n",
       "75%     60.000000  140.000000   267.000000    0.000000  156.000000   \n",
       "max     77.000000  200.000000   603.000000    1.000000  202.000000   \n",
       "\n",
       "          Oldpeak  HeartDisease  \n",
       "count  918.000000    918.000000  \n",
       "mean     0.887364      0.553377  \n",
       "std      1.066570      0.497414  \n",
       "min     -2.600000      0.000000  \n",
       "25%      0.000000      0.000000  \n",
       "50%      0.600000      1.000000  \n",
       "75%      1.500000      1.000000  \n",
       "max      6.200000      1.000000  "
      ]
     },
     "execution_count": 5,
     "metadata": {},
     "output_type": "execute_result"
    }
   ],
   "source": [
    "heart.describe()"
   ]
  },
  {
   "cell_type": "code",
   "execution_count": 6,
   "id": "8a20d1f2",
   "metadata": {
    "execution": {
     "iopub.execute_input": "2021-12-21T23:35:13.260983Z",
     "iopub.status.busy": "2021-12-21T23:35:13.258156Z",
     "iopub.status.idle": "2021-12-21T23:35:13.523908Z",
     "shell.execute_reply": "2021-12-21T23:35:13.523256Z",
     "shell.execute_reply.started": "2021-12-21T21:48:31.275434Z"
    },
    "papermill": {
     "duration": 0.308498,
     "end_time": "2021-12-21T23:35:13.524061",
     "exception": false,
     "start_time": "2021-12-21T23:35:13.215563",
     "status": "completed"
    },
    "tags": []
   },
   "outputs": [
    {
     "data": {
      "text/plain": [
       "<AxesSubplot:xlabel='HeartDisease', ylabel='Count'>"
      ]
     },
     "execution_count": 6,
     "metadata": {},
     "output_type": "execute_result"
    },
    {
     "data": {
      "image/png": "[encoded data removed]",
      "text/plain": [
       "<Figure size 432x288 with 1 Axes>"
      ]
     },
     "metadata": {
      "needs_background": "light"
     },
     "output_type": "display_data"
    }
   ],
   "source": [
    "# is our data disbalance?\n",
    "sns.histplot(heart['HeartDisease'])"
   ]
  },
  {
   "cell_type": "code",
   "execution_count": 7,
   "id": "66c0d353",
   "metadata": {
    "execution": {
     "iopub.execute_input": "2021-12-21T23:35:13.600401Z",
     "iopub.status.busy": "2021-12-21T23:35:13.599767Z",
     "iopub.status.idle": "2021-12-21T23:35:13.790818Z",
     "shell.execute_reply": "2021-12-21T23:35:13.791431Z",
     "shell.execute_reply.started": "2021-12-21T21:48:35.60075Z"
    },
    "papermill": {
     "duration": 0.229573,
     "end_time": "2021-12-21T23:35:13.791603",
     "exception": false,
     "start_time": "2021-12-21T23:35:13.562030",
     "status": "completed"
    },
    "tags": []
   },
   "outputs": [
    {
     "data": {
      "text/plain": [
       "<AxesSubplot:xlabel='Sex', ylabel='Count'>"
      ]
     },
     "execution_count": 7,
     "metadata": {},
     "output_type": "execute_result"
    },
    {
     "data": {
      "image/png": "[encoded data removed]",
      "text/plain": [
       "<Figure size 432x288 with 1 Axes>"
      ]
     },
     "metadata": {
      "needs_background": "light"
     },
     "output_type": "display_data"
    }
   ],
   "source": [
    "sns.histplot(heart['Sex'])"
   ]
  },
  {
   "cell_type": "code",
   "execution_count": 8,
   "id": "ceb904bc",
   "metadata": {
    "execution": {
     "iopub.execute_input": "2021-12-21T23:35:13.867775Z",
     "iopub.status.busy": "2021-12-21T23:35:13.867103Z",
     "iopub.status.idle": "2021-12-21T23:35:14.067430Z",
     "shell.execute_reply": "2021-12-21T23:35:14.066454Z",
     "shell.execute_reply.started": "2021-12-21T21:48:40.608194Z"
    },
    "papermill": {
     "duration": 0.239116,
     "end_time": "2021-12-21T23:35:14.067580",
     "exception": false,
     "start_time": "2021-12-21T23:35:13.828464",
     "status": "completed"
    },
    "tags": []
   },
   "outputs": [
    {
     "data": {
      "text/plain": [
       "<AxesSubplot:xlabel='ChestPainType', ylabel='Count'>"
      ]
     },
     "execution_count": 8,
     "metadata": {},
     "output_type": "execute_result"
    },
    {
     "data": {
      "image/png": "[encoded data removed]",
      "text/plain": [
       "<Figure size 432x288 with 1 Axes>"
      ]
     },
     "metadata": {
      "needs_background": "light"
     },
     "output_type": "display_data"
    }
   ],
   "source": [
    "sns.histplot(heart['ChestPainType'])"
   ]
  },
  {
   "cell_type": "code",
   "execution_count": 9,
   "id": "562e02d3",
   "metadata": {
    "execution": {
     "iopub.execute_input": "2021-12-21T23:35:14.146614Z",
     "iopub.status.busy": "2021-12-21T23:35:14.145616Z",
     "iopub.status.idle": "2021-12-21T23:35:14.486018Z",
     "shell.execute_reply": "2021-12-21T23:35:14.485332Z",
     "shell.execute_reply.started": "2021-12-21T21:48:44.944573Z"
    },
    "papermill": {
     "duration": 0.38142,
     "end_time": "2021-12-21T23:35:14.486171",
     "exception": false,
     "start_time": "2021-12-21T23:35:14.104751",
     "status": "completed"
    },
    "tags": []
   },
   "outputs": [
    {
     "data": {
      "text/plain": [
       "<AxesSubplot:xlabel='RestingBP', ylabel='Count'>"
      ]
     },
     "execution_count": 9,
     "metadata": {},
     "output_type": "execute_result"
    },
    {
     "data": {
      "image/png": "[encoded data removed]",
      "text/plain": [
       "<Figure size 432x288 with 1 Axes>"
      ]
     },
     "metadata": {
      "needs_background": "light"
     },
     "output_type": "display_data"
    }
   ],
   "source": [
    "sns.histplot(heart['RestingBP'])"
   ]
  },
  {
   "cell_type": "code",
   "execution_count": 10,
   "id": "40bc235c",
   "metadata": {
    "execution": {
     "iopub.execute_input": "2021-12-21T23:35:14.570189Z",
     "iopub.status.busy": "2021-12-21T23:35:14.569147Z",
     "iopub.status.idle": "2021-12-21T23:35:14.776672Z",
     "shell.execute_reply": "2021-12-21T23:35:14.777155Z",
     "shell.execute_reply.started": "2021-12-21T21:48:51.281799Z"
    },
    "papermill": {
     "duration": 0.25282,
     "end_time": "2021-12-21T23:35:14.777346",
     "exception": false,
     "start_time": "2021-12-21T23:35:14.524526",
     "status": "completed"
    },
    "tags": []
   },
   "outputs": [
    {
     "data": {
      "text/plain": [
       "<AxesSubplot:xlabel='FastingBS', ylabel='Count'>"
      ]
     },
     "execution_count": 10,
     "metadata": {},
     "output_type": "execute_result"
    },
    {
     "data": {
      "image/png": "[encoded data removed]",
      "text/plain": [
       "<Figure size 432x288 with 1 Axes>"
      ]
     },
     "metadata": {
      "needs_background": "light"
     },
     "output_type": "display_data"
    }
   ],
   "source": [
    "sns.histplot(heart['FastingBS'])"
   ]
  },
  {
   "cell_type": "code",
   "execution_count": 11,
   "id": "0c957171",
   "metadata": {
    "execution": {
     "iopub.execute_input": "2021-12-21T23:35:14.860206Z",
     "iopub.status.busy": "2021-12-21T23:35:14.859169Z",
     "iopub.status.idle": "2021-12-21T23:35:15.113789Z",
     "shell.execute_reply": "2021-12-21T23:35:15.114258Z",
     "shell.execute_reply.started": "2021-12-21T21:48:55.541419Z"
    },
    "papermill": {
     "duration": 0.298364,
     "end_time": "2021-12-21T23:35:15.114436",
     "exception": false,
     "start_time": "2021-12-21T23:35:14.816072",
     "status": "completed"
    },
    "tags": []
   },
   "outputs": [
    {
     "data": {
      "text/plain": [
       "<AxesSubplot:xlabel='Cholesterol', ylabel='Count'>"
      ]
     },
     "execution_count": 11,
     "metadata": {},
     "output_type": "execute_result"
    },
    {
     "data": {
      "image/png": "[encoded data removed]",
      "text/plain": [
       "<Figure size 432x288 with 1 Axes>"
      ]
     },
     "metadata": {
      "needs_background": "light"
     },
     "output_type": "display_data"
    }
   ],
   "source": [
    "sns.histplot(heart['Cholesterol'])"
   ]
  },
  {
   "cell_type": "code",
   "execution_count": 12,
   "id": "4530faf0",
   "metadata": {
    "execution": {
     "iopub.execute_input": "2021-12-21T23:35:15.198478Z",
     "iopub.status.busy": "2021-12-21T23:35:15.197517Z",
     "iopub.status.idle": "2021-12-21T23:35:15.203064Z",
     "shell.execute_reply": "2021-12-21T23:35:15.203541Z",
     "shell.execute_reply.started": "2021-12-21T21:49:00.196678Z"
    },
    "papermill": {
     "duration": 0.048898,
     "end_time": "2021-12-21T23:35:15.203703",
     "exception": false,
     "start_time": "2021-12-21T23:35:15.154805",
     "status": "completed"
    },
    "tags": []
   },
   "outputs": [],
   "source": [
    "# In some varables, zeros can represent missing values, so, i'll treat them as nan\n",
    "heart['RestingBP'] = heart['RestingBP'].replace(0, heart['RestingBP'].median())\n",
    "heart['Cholesterol'] = heart['Cholesterol'].replace(0, heart['Cholesterol'].median())"
   ]
  },
  {
   "cell_type": "code",
   "execution_count": 13,
   "id": "ad13211b",
   "metadata": {
    "execution": {
     "iopub.execute_input": "2021-12-21T23:35:15.287389Z",
     "iopub.status.busy": "2021-12-21T23:35:15.286373Z",
     "iopub.status.idle": "2021-12-21T23:35:15.807170Z",
     "shell.execute_reply": "2021-12-21T23:35:15.807656Z",
     "shell.execute_reply.started": "2021-12-21T21:49:02.537143Z"
    },
    "papermill": {
     "duration": 0.564493,
     "end_time": "2021-12-21T23:35:15.807834",
     "exception": false,
     "start_time": "2021-12-21T23:35:15.243341",
     "status": "completed"
    },
    "tags": []
   },
   "outputs": [
    {
     "data": {
      "text/plain": [
       "<AxesSubplot:>"
      ]
     },
     "execution_count": 13,
     "metadata": {},
     "output_type": "execute_result"
    },
    {
     "data": {
      "image/png": "[encoded data removed]",
      "text/plain": [
       "<Figure size 432x288 with 2 Axes>"
      ]
     },
     "metadata": {
      "needs_background": "light"
     },
     "output_type": "display_data"
    }
   ],
   "source": [
    "# let's going to use heatmap to see the correlation between features and target variable\n",
    "sns.heatmap(heart.corr(), annot = True)"
   ]
  },
  {
   "cell_type": "markdown",
   "id": "53b8fb28",
   "metadata": {
    "papermill": {
     "duration": 0.041567,
     "end_time": "2021-12-21T23:35:15.890967",
     "exception": false,
     "start_time": "2021-12-21T23:35:15.849400",
     "status": "completed"
    },
    "tags": []
   },
   "source": [
    "## exploring categorical data with target variable"
   ]
  },
  {
   "cell_type": "code",
   "execution_count": 14,
   "id": "b3f3be30",
   "metadata": {
    "execution": {
     "iopub.execute_input": "2021-12-21T23:35:15.978805Z",
     "iopub.status.busy": "2021-12-21T23:35:15.977617Z",
     "iopub.status.idle": "2021-12-21T23:35:15.986098Z",
     "shell.execute_reply": "2021-12-21T23:35:15.985432Z",
     "shell.execute_reply.started": "2021-12-21T21:49:07.41298Z"
    },
    "papermill": {
     "duration": 0.053439,
     "end_time": "2021-12-21T23:35:15.986239",
     "exception": false,
     "start_time": "2021-12-21T23:35:15.932800",
     "status": "completed"
    },
    "tags": []
   },
   "outputs": [
    {
     "data": {
      "text/plain": [
       "Index(['Sex', 'ChestPainType', 'RestingECG', 'ExerciseAngina', 'ST_Slope'], dtype='object')"
      ]
     },
     "execution_count": 14,
     "metadata": {},
     "output_type": "execute_result"
    }
   ],
   "source": [
    "heart.select_dtypes('object').columns"
   ]
  },
  {
   "cell_type": "code",
   "execution_count": 15,
   "id": "ac0d4f93",
   "metadata": {
    "execution": {
     "iopub.execute_input": "2021-12-21T23:35:16.085168Z",
     "iopub.status.busy": "2021-12-21T23:35:16.084289Z",
     "iopub.status.idle": "2021-12-21T23:35:16.087595Z",
     "shell.execute_reply": "2021-12-21T23:35:16.088101Z",
     "shell.execute_reply.started": "2021-12-21T21:49:08.91278Z"
    },
    "papermill": {
     "duration": 0.057709,
     "end_time": "2021-12-21T23:35:16.088273",
     "exception": false,
     "start_time": "2021-12-21T23:35:16.030564",
     "status": "completed"
    },
    "tags": []
   },
   "outputs": [
    {
     "data": {
      "text/plain": [
       "Sex\n",
       "F    0.259067\n",
       "M    0.631724\n",
       "Name: HeartDisease, dtype: float64"
      ]
     },
     "execution_count": 15,
     "metadata": {},
     "output_type": "execute_result"
    }
   ],
   "source": [
    "# Sex\n",
    "heart.groupby(['Sex'])['HeartDisease'].mean()"
   ]
  },
  {
   "cell_type": "code",
   "execution_count": 16,
   "id": "4d9b3970",
   "metadata": {
    "execution": {
     "iopub.execute_input": "2021-12-21T23:35:16.181115Z",
     "iopub.status.busy": "2021-12-21T23:35:16.180430Z",
     "iopub.status.idle": "2021-12-21T23:35:16.370677Z",
     "shell.execute_reply": "2021-12-21T23:35:16.370120Z",
     "shell.execute_reply.started": "2021-12-21T21:49:19.025611Z"
    },
    "papermill": {
     "duration": 0.240471,
     "end_time": "2021-12-21T23:35:16.370820",
     "exception": false,
     "start_time": "2021-12-21T23:35:16.130349",
     "status": "completed"
    },
    "tags": []
   },
   "outputs": [
    {
     "data": {
      "text/plain": [
       "<AxesSubplot:xlabel='Sex'>"
      ]
     },
     "execution_count": 16,
     "metadata": {},
     "output_type": "execute_result"
    },
    {
     "data": {
      "image/png": "[encoded data removed]",
      "text/plain": [
       "<Figure size 432x288 with 1 Axes>"
      ]
     },
     "metadata": {
      "needs_background": "light"
     },
     "output_type": "display_data"
    }
   ],
   "source": [
    "pd.crosstab(heart['Sex'], heart['HeartDisease']).plot.bar()"
   ]
  },
  {
   "cell_type": "markdown",
   "id": "6bb4ce39",
   "metadata": {
    "papermill": {
     "duration": 0.043317,
     "end_time": "2021-12-21T23:35:16.457460",
     "exception": false,
     "start_time": "2021-12-21T23:35:16.414143",
     "status": "completed"
    },
    "tags": []
   },
   "source": [
    "even though the fact that there are more men in the dataset, men have more likely to suffer heart  than women, regardeing to the study, exactly: "
   ]
  },
  {
   "cell_type": "code",
   "execution_count": 17,
   "id": "265735eb",
   "metadata": {
    "execution": {
     "iopub.execute_input": "2021-12-21T23:35:16.549243Z",
     "iopub.status.busy": "2021-12-21T23:35:16.546953Z",
     "iopub.status.idle": "2021-12-21T23:35:16.552515Z",
     "shell.execute_reply": "2021-12-21T23:35:16.551983Z",
     "shell.execute_reply.started": "2021-12-21T21:49:39.881557Z"
    },
    "papermill": {
     "duration": 0.051876,
     "end_time": "2021-12-21T23:35:16.552653",
     "exception": false,
     "start_time": "2021-12-21T23:35:16.500777",
     "status": "completed"
    },
    "tags": []
   },
   "outputs": [
    {
     "data": {
      "text/plain": [
       "2.436293436293436"
      ]
     },
     "execution_count": 17,
     "metadata": {},
     "output_type": "execute_result"
    }
   ],
   "source": [
    "0.631/0.259"
   ]
  },
  {
   "cell_type": "code",
   "execution_count": 18,
   "id": "2ae468fc",
   "metadata": {
    "execution": {
     "iopub.execute_input": "2021-12-21T23:35:16.646377Z",
     "iopub.status.busy": "2021-12-21T23:35:16.645333Z",
     "iopub.status.idle": "2021-12-21T23:35:16.651027Z",
     "shell.execute_reply": "2021-12-21T23:35:16.651631Z",
     "shell.execute_reply.started": "2021-12-21T21:49:41.385387Z"
    },
    "papermill": {
     "duration": 0.055417,
     "end_time": "2021-12-21T23:35:16.651804",
     "exception": false,
     "start_time": "2021-12-21T23:35:16.596387",
     "status": "completed"
    },
    "tags": []
   },
   "outputs": [
    {
     "data": {
      "text/plain": [
       "ChestPainType\n",
       "ASY    0.790323\n",
       "ATA    0.138728\n",
       "NAP    0.354680\n",
       "TA     0.434783\n",
       "Name: HeartDisease, dtype: float64"
      ]
     },
     "execution_count": 18,
     "metadata": {},
     "output_type": "execute_result"
    }
   ],
   "source": [
    "# chest pain\n",
    "heart.groupby(['ChestPainType'])['HeartDisease'].mean()"
   ]
  },
  {
   "cell_type": "code",
   "execution_count": 19,
   "id": "2cdff82e",
   "metadata": {
    "execution": {
     "iopub.execute_input": "2021-12-21T23:35:16.743985Z",
     "iopub.status.busy": "2021-12-21T23:35:16.742983Z",
     "iopub.status.idle": "2021-12-21T23:35:16.754273Z",
     "shell.execute_reply": "2021-12-21T23:35:16.754862Z",
     "shell.execute_reply.started": "2021-12-21T21:49:45.264599Z"
    },
    "papermill": {
     "duration": 0.05919,
     "end_time": "2021-12-21T23:35:16.755050",
     "exception": false,
     "start_time": "2021-12-21T23:35:16.695860",
     "status": "completed"
    },
    "tags": []
   },
   "outputs": [
    {
     "data": {
      "text/html": [
       "<div>\n",
       "<style scoped>\n",
       "    .dataframe tbody tr th:only-of-type {\n",
       "        vertical-align: middle;\n",
       "    }\n",
       "\n",
       "    .dataframe tbody tr th {\n",
       "        vertical-align: top;\n",
       "    }\n",
       "\n",
       "    .dataframe thead th {\n",
       "        text-align: right;\n",
       "    }\n",
       "</style>\n",
       "<table border=\"1\" class=\"dataframe\">\n",
       "  <thead>\n",
       "    <tr style=\"text-align: right;\">\n",
       "      <th>HeartDisease</th>\n",
       "      <th>0</th>\n",
       "      <th>1</th>\n",
       "    </tr>\n",
       "    <tr>\n",
       "      <th>ChestPainType</th>\n",
       "      <th></th>\n",
       "      <th></th>\n",
       "    </tr>\n",
       "  </thead>\n",
       "  <tbody>\n",
       "    <tr>\n",
       "      <th>ASY</th>\n",
       "      <td>104</td>\n",
       "      <td>392</td>\n",
       "    </tr>\n",
       "    <tr>\n",
       "      <th>ATA</th>\n",
       "      <td>149</td>\n",
       "      <td>24</td>\n",
       "    </tr>\n",
       "    <tr>\n",
       "      <th>NAP</th>\n",
       "      <td>131</td>\n",
       "      <td>72</td>\n",
       "    </tr>\n",
       "    <tr>\n",
       "      <th>TA</th>\n",
       "      <td>26</td>\n",
       "      <td>20</td>\n",
       "    </tr>\n",
       "  </tbody>\n",
       "</table>\n",
       "</div>"
      ],
      "text/plain": [
       "HeartDisease     0    1\n",
       "ChestPainType          \n",
       "ASY            104  392\n",
       "ATA            149   24\n",
       "NAP            131   72\n",
       "TA              26   20"
      ]
     },
     "execution_count": 19,
     "metadata": {},
     "output_type": "execute_result"
    }
   ],
   "source": [
    "heart.groupby('ChestPainType')['HeartDisease'].value_counts().unstack()"
   ]
  },
  {
   "cell_type": "code",
   "execution_count": 20,
   "id": "d306b3ec",
   "metadata": {
    "execution": {
     "iopub.execute_input": "2021-12-21T23:35:16.849990Z",
     "iopub.status.busy": "2021-12-21T23:35:16.849032Z",
     "iopub.status.idle": "2021-12-21T23:35:17.177145Z",
     "shell.execute_reply": "2021-12-21T23:35:17.176603Z",
     "shell.execute_reply.started": "2021-12-21T21:49:46.88903Z"
    },
    "papermill": {
     "duration": 0.375791,
     "end_time": "2021-12-21T23:35:17.177303",
     "exception": false,
     "start_time": "2021-12-21T23:35:16.801512",
     "status": "completed"
    },
    "tags": []
   },
   "outputs": [
    {
     "data": {
      "text/plain": [
       "<AxesSubplot:xlabel='ChestPainType'>"
      ]
     },
     "execution_count": 20,
     "metadata": {},
     "output_type": "execute_result"
    },
    {
     "data": {
      "image/png": "[encoded data removed]",
      "text/plain": [
       "<Figure size 432x288 with 1 Axes>"
      ]
     },
     "metadata": {
      "needs_background": "light"
     },
     "output_type": "display_data"
    }
   ],
   "source": [
    "pd.crosstab(heart['ChestPainType'], heart['HeartDisease']).plot.bar()"
   ]
  },
  {
   "cell_type": "markdown",
   "id": "666a7dbd",
   "metadata": {
    "papermill": {
     "duration": 0.046145,
     "end_time": "2021-12-21T23:35:17.268900",
     "exception": false,
     "start_time": "2021-12-21T23:35:17.222755",
     "status": "completed"
    },
    "tags": []
   },
   "source": [
    "As we can see, asymptomatic people have suffered more heart diseases, beacause they are no aware that they can have one and they can't  avoid it. Unlike to people that know o feel ."
   ]
  },
  {
   "cell_type": "code",
   "execution_count": 21,
   "id": "d91be637",
   "metadata": {
    "execution": {
     "iopub.execute_input": "2021-12-21T23:35:17.363503Z",
     "iopub.status.busy": "2021-12-21T23:35:17.362512Z",
     "iopub.status.idle": "2021-12-21T23:35:17.370409Z",
     "shell.execute_reply": "2021-12-21T23:35:17.370993Z",
     "shell.execute_reply.started": "2021-12-21T21:49:54.469561Z"
    },
    "papermill": {
     "duration": 0.056926,
     "end_time": "2021-12-21T23:35:17.371159",
     "exception": false,
     "start_time": "2021-12-21T23:35:17.314233",
     "status": "completed"
    },
    "tags": []
   },
   "outputs": [
    {
     "data": {
      "text/plain": [
       "RestingECG\n",
       "LVH       0.563830\n",
       "Normal    0.516304\n",
       "ST        0.657303\n",
       "Name: HeartDisease, dtype: float64"
      ]
     },
     "execution_count": 21,
     "metadata": {},
     "output_type": "execute_result"
    }
   ],
   "source": [
    "# RestingECG\n",
    "heart.groupby('RestingECG')['HeartDisease'].mean()"
   ]
  },
  {
   "cell_type": "code",
   "execution_count": 22,
   "id": "6438e6e0",
   "metadata": {
    "execution": {
     "iopub.execute_input": "2021-12-21T23:35:17.467617Z",
     "iopub.status.busy": "2021-12-21T23:35:17.466605Z",
     "iopub.status.idle": "2021-12-21T23:35:17.645583Z",
     "shell.execute_reply": "2021-12-21T23:35:17.646173Z",
     "shell.execute_reply.started": "2021-12-21T21:49:55.744436Z"
    },
    "papermill": {
     "duration": 0.228891,
     "end_time": "2021-12-21T23:35:17.646355",
     "exception": false,
     "start_time": "2021-12-21T23:35:17.417464",
     "status": "completed"
    },
    "tags": []
   },
   "outputs": [
    {
     "data": {
      "text/plain": [
       "<AxesSubplot:xlabel='RestingECG'>"
      ]
     },
     "execution_count": 22,
     "metadata": {},
     "output_type": "execute_result"
    },
    {
     "data": {
      "image/png": "[encoded data removed]",
      "text/plain": [
       "<Figure size 432x288 with 1 Axes>"
      ]
     },
     "metadata": {
      "needs_background": "light"
     },
     "output_type": "display_data"
    }
   ],
   "source": [
    "pd.crosstab(heart['RestingECG'], heart['HeartDisease']).plot.bar()"
   ]
  },
  {
   "cell_type": "markdown",
   "id": "d2a0a505",
   "metadata": {
    "papermill": {
     "duration": 0.046826,
     "end_time": "2021-12-21T23:35:17.739934",
     "exception": false,
     "start_time": "2021-12-21T23:35:17.693108",
     "status": "completed"
    },
    "tags": []
   },
   "source": [
    "people with wave abnormality when they are resting are more likely to have heart disease."
   ]
  },
  {
   "cell_type": "code",
   "execution_count": 23,
   "id": "15f579a0",
   "metadata": {
    "execution": {
     "iopub.execute_input": "2021-12-21T23:35:17.837814Z",
     "iopub.status.busy": "2021-12-21T23:35:17.836943Z",
     "iopub.status.idle": "2021-12-21T23:35:17.844999Z",
     "shell.execute_reply": "2021-12-21T23:35:17.845498Z",
     "shell.execute_reply.started": "2021-12-21T21:49:59.704576Z"
    },
    "papermill": {
     "duration": 0.058859,
     "end_time": "2021-12-21T23:35:17.845697",
     "exception": false,
     "start_time": "2021-12-21T23:35:17.786838",
     "status": "completed"
    },
    "tags": []
   },
   "outputs": [
    {
     "data": {
      "text/plain": [
       "ExerciseAngina\n",
       "N    0.351005\n",
       "Y    0.851752\n",
       "Name: HeartDisease, dtype: float64"
      ]
     },
     "execution_count": 23,
     "metadata": {},
     "output_type": "execute_result"
    }
   ],
   "source": [
    "# Exercise induced angina\n",
    "heart.groupby('ExerciseAngina')['HeartDisease'].mean()"
   ]
  },
  {
   "cell_type": "code",
   "execution_count": 24,
   "id": "33f8cbd8",
   "metadata": {
    "execution": {
     "iopub.execute_input": "2021-12-21T23:35:17.947071Z",
     "iopub.status.busy": "2021-12-21T23:35:17.945852Z",
     "iopub.status.idle": "2021-12-21T23:35:18.180282Z",
     "shell.execute_reply": "2021-12-21T23:35:18.179717Z",
     "shell.execute_reply.started": "2021-12-21T21:50:03.344418Z"
    },
    "papermill": {
     "duration": 0.287031,
     "end_time": "2021-12-21T23:35:18.180433",
     "exception": false,
     "start_time": "2021-12-21T23:35:17.893402",
     "status": "completed"
    },
    "tags": []
   },
   "outputs": [
    {
     "data": {
      "text/plain": [
       "<AxesSubplot:xlabel='ExerciseAngina'>"
      ]
     },
     "execution_count": 24,
     "metadata": {},
     "output_type": "execute_result"
    },
    {
     "data": {
      "image/png": "[encoded data removed]",
      "text/plain": [
       "<Figure size 432x288 with 1 Axes>"
      ]
     },
     "metadata": {
      "needs_background": "light"
     },
     "output_type": "display_data"
    }
   ],
   "source": [
    "pd.crosstab(heart['ExerciseAngina'], heart['HeartDisease']).plot.bar()"
   ]
  },
  {
   "cell_type": "markdown",
   "id": "5d1868ee",
   "metadata": {
    "papermill": {
     "duration": 0.047905,
     "end_time": "2021-12-21T23:35:18.276509",
     "exception": false,
     "start_time": "2021-12-21T23:35:18.228604",
     "status": "completed"
    },
    "tags": []
   },
   "source": [
    "There is a big relation between people with Angina induced by exercise and people who suffered heart disease.\n",
    "\n",
    "Also, researching i found a relation between angina induced by exercise and chest pain."
   ]
  },
  {
   "cell_type": "code",
   "execution_count": 25,
   "id": "b96650c8",
   "metadata": {
    "execution": {
     "iopub.execute_input": "2021-12-21T23:35:18.377154Z",
     "iopub.status.busy": "2021-12-21T23:35:18.376179Z",
     "iopub.status.idle": "2021-12-21T23:35:18.384621Z",
     "shell.execute_reply": "2021-12-21T23:35:18.385080Z",
     "shell.execute_reply.started": "2021-12-21T21:50:08.729328Z"
    },
    "papermill": {
     "duration": 0.060548,
     "end_time": "2021-12-21T23:35:18.385253",
     "exception": false,
     "start_time": "2021-12-21T23:35:18.324705",
     "status": "completed"
    },
    "tags": []
   },
   "outputs": [
    {
     "data": {
      "text/plain": [
       "ExerciseAngina  ChestPainType\n",
       "N               ASY              199\n",
       "                ATA              156\n",
       "                NAP              152\n",
       "                TA                40\n",
       "Y               ASY              297\n",
       "                NAP               51\n",
       "                ATA               17\n",
       "                TA                 6\n",
       "Name: ChestPainType, dtype: int64"
      ]
     },
     "execution_count": 25,
     "metadata": {},
     "output_type": "execute_result"
    }
   ],
   "source": [
    "heart.groupby('ExerciseAngina')['ChestPainType'].value_counts()"
   ]
  },
  {
   "cell_type": "markdown",
   "id": "81fcb69d",
   "metadata": {
    "papermill": {
     "duration": 0.048879,
     "end_time": "2021-12-21T23:35:18.482618",
     "exception": false,
     "start_time": "2021-12-21T23:35:18.433739",
     "status": "completed"
    },
    "tags": []
   },
   "source": [
    "people who have angina induced by exercise tend to be asymptomatic when we talk about chest pain."
   ]
  },
  {
   "cell_type": "code",
   "execution_count": 26,
   "id": "ce278927",
   "metadata": {
    "execution": {
     "iopub.execute_input": "2021-12-21T23:35:18.583955Z",
     "iopub.status.busy": "2021-12-21T23:35:18.582957Z",
     "iopub.status.idle": "2021-12-21T23:35:18.590860Z",
     "shell.execute_reply": "2021-12-21T23:35:18.591465Z",
     "shell.execute_reply.started": "2021-12-21T21:50:13.88477Z"
    },
    "papermill": {
     "duration": 0.060549,
     "end_time": "2021-12-21T23:35:18.591633",
     "exception": false,
     "start_time": "2021-12-21T23:35:18.531084",
     "status": "completed"
    },
    "tags": []
   },
   "outputs": [
    {
     "data": {
      "text/plain": [
       "ST_Slope\n",
       "Down    0.777778\n",
       "Flat    0.828261\n",
       "Up      0.197468\n",
       "Name: HeartDisease, dtype: float64"
      ]
     },
     "execution_count": 26,
     "metadata": {},
     "output_type": "execute_result"
    }
   ],
   "source": [
    "# ST_Slope\n",
    "heart.groupby(['ST_Slope'])['HeartDisease'].mean()"
   ]
  },
  {
   "cell_type": "code",
   "execution_count": 27,
   "id": "a94eb08e",
   "metadata": {
    "execution": {
     "iopub.execute_input": "2021-12-21T23:35:18.693570Z",
     "iopub.status.busy": "2021-12-21T23:35:18.692558Z",
     "iopub.status.idle": "2021-12-21T23:35:18.934596Z",
     "shell.execute_reply": "2021-12-21T23:35:18.935051Z",
     "shell.execute_reply.started": "2021-12-21T21:50:15.2409Z"
    },
    "papermill": {
     "duration": 0.294666,
     "end_time": "2021-12-21T23:35:18.935234",
     "exception": false,
     "start_time": "2021-12-21T23:35:18.640568",
     "status": "completed"
    },
    "tags": []
   },
   "outputs": [
    {
     "data": {
      "text/plain": [
       "<AxesSubplot:xlabel='ST_Slope'>"
      ]
     },
     "execution_count": 27,
     "metadata": {},
     "output_type": "execute_result"
    },
    {
     "data": {
      "image/png": "[encoded data removed]",
      "text/plain": [
       "<Figure size 432x288 with 1 Axes>"
      ]
     },
     "metadata": {
      "needs_background": "light"
     },
     "output_type": "display_data"
    }
   ],
   "source": [
    "pd.crosstab(heart['ST_Slope'], heart['HeartDisease']).plot.bar()"
   ]
  },
  {
   "cell_type": "markdown",
   "id": "eaa25653",
   "metadata": {
    "papermill": {
     "duration": 0.049567,
     "end_time": "2021-12-21T23:35:19.035368",
     "exception": false,
     "start_time": "2021-12-21T23:35:18.985801",
     "status": "completed"
    },
    "tags": []
   },
   "source": [
    "the values in this feature represent the direction of the slope, when the slope is up represent the normal direction, but, a flat or down slope represent more probability to have heart diseases."
   ]
  },
  {
   "cell_type": "code",
   "execution_count": 28,
   "id": "d6d469cb",
   "metadata": {
    "execution": {
     "iopub.execute_input": "2021-12-21T23:35:19.140193Z",
     "iopub.status.busy": "2021-12-21T23:35:19.139177Z",
     "iopub.status.idle": "2021-12-21T23:35:19.145322Z",
     "shell.execute_reply": "2021-12-21T23:35:19.144755Z",
     "shell.execute_reply.started": "2021-12-21T21:50:21.545021Z"
    },
    "papermill": {
     "duration": 0.059219,
     "end_time": "2021-12-21T23:35:19.145475",
     "exception": false,
     "start_time": "2021-12-21T23:35:19.086256",
     "status": "completed"
    },
    "tags": []
   },
   "outputs": [],
   "source": [
    "# Dropping values with low correlation\n",
    "heart = heart.drop(['Cholesterol', 'FastingBS'], axis = 1)"
   ]
  },
  {
   "cell_type": "markdown",
   "id": "5e6492e8",
   "metadata": {
    "papermill": {
     "duration": 0.049987,
     "end_time": "2021-12-21T23:35:19.246208",
     "exception": false,
     "start_time": "2021-12-21T23:35:19.196221",
     "status": "completed"
    },
    "tags": []
   },
   "source": [
    "## Transforming categorical data"
   ]
  },
  {
   "cell_type": "code",
   "execution_count": 29,
   "id": "75ae95e0",
   "metadata": {
    "execution": {
     "iopub.execute_input": "2021-12-21T23:35:19.357160Z",
     "iopub.status.busy": "2021-12-21T23:35:19.356061Z",
     "iopub.status.idle": "2021-12-21T23:35:19.373817Z",
     "shell.execute_reply": "2021-12-21T23:35:19.374333Z",
     "shell.execute_reply.started": "2021-12-21T21:50:23.140859Z"
    },
    "papermill": {
     "duration": 0.077166,
     "end_time": "2021-12-21T23:35:19.374516",
     "exception": false,
     "start_time": "2021-12-21T23:35:19.297350",
     "status": "completed"
    },
    "tags": []
   },
   "outputs": [
    {
     "data": {
      "text/html": [
       "<div>\n",
       "<style scoped>\n",
       "    .dataframe tbody tr th:only-of-type {\n",
       "        vertical-align: middle;\n",
       "    }\n",
       "\n",
       "    .dataframe tbody tr th {\n",
       "        vertical-align: top;\n",
       "    }\n",
       "\n",
       "    .dataframe thead th {\n",
       "        text-align: right;\n",
       "    }\n",
       "</style>\n",
       "<table border=\"1\" class=\"dataframe\">\n",
       "  <thead>\n",
       "    <tr style=\"text-align: right;\">\n",
       "      <th></th>\n",
       "      <th>Age</th>\n",
       "      <th>RestingBP</th>\n",
       "      <th>MaxHR</th>\n",
       "      <th>Oldpeak</th>\n",
       "      <th>HeartDisease</th>\n",
       "      <th>Sex_M</th>\n",
       "      <th>ChestPainType_ATA</th>\n",
       "      <th>ChestPainType_NAP</th>\n",
       "      <th>ChestPainType_TA</th>\n",
       "      <th>RestingECG_Normal</th>\n",
       "      <th>RestingECG_ST</th>\n",
       "      <th>ExerciseAngina_Y</th>\n",
       "      <th>ST_Slope_Flat</th>\n",
       "      <th>ST_Slope_Up</th>\n",
       "    </tr>\n",
       "  </thead>\n",
       "  <tbody>\n",
       "    <tr>\n",
       "      <th>0</th>\n",
       "      <td>40</td>\n",
       "      <td>140</td>\n",
       "      <td>172</td>\n",
       "      <td>0.0</td>\n",
       "      <td>0</td>\n",
       "      <td>1</td>\n",
       "      <td>1</td>\n",
       "      <td>0</td>\n",
       "      <td>0</td>\n",
       "      <td>1</td>\n",
       "      <td>0</td>\n",
       "      <td>0</td>\n",
       "      <td>0</td>\n",
       "      <td>1</td>\n",
       "    </tr>\n",
       "    <tr>\n",
       "      <th>1</th>\n",
       "      <td>49</td>\n",
       "      <td>160</td>\n",
       "      <td>156</td>\n",
       "      <td>1.0</td>\n",
       "      <td>1</td>\n",
       "      <td>0</td>\n",
       "      <td>0</td>\n",
       "      <td>1</td>\n",
       "      <td>0</td>\n",
       "      <td>1</td>\n",
       "      <td>0</td>\n",
       "      <td>0</td>\n",
       "      <td>1</td>\n",
       "      <td>0</td>\n",
       "    </tr>\n",
       "    <tr>\n",
       "      <th>2</th>\n",
       "      <td>37</td>\n",
       "      <td>130</td>\n",
       "      <td>98</td>\n",
       "      <td>0.0</td>\n",
       "      <td>0</td>\n",
       "      <td>1</td>\n",
       "      <td>1</td>\n",
       "      <td>0</td>\n",
       "      <td>0</td>\n",
       "      <td>0</td>\n",
       "      <td>1</td>\n",
       "      <td>0</td>\n",
       "      <td>0</td>\n",
       "      <td>1</td>\n",
       "    </tr>\n",
       "    <tr>\n",
       "      <th>3</th>\n",
       "      <td>48</td>\n",
       "      <td>138</td>\n",
       "      <td>108</td>\n",
       "      <td>1.5</td>\n",
       "      <td>1</td>\n",
       "      <td>0</td>\n",
       "      <td>0</td>\n",
       "      <td>0</td>\n",
       "      <td>0</td>\n",
       "      <td>1</td>\n",
       "      <td>0</td>\n",
       "      <td>1</td>\n",
       "      <td>1</td>\n",
       "      <td>0</td>\n",
       "    </tr>\n",
       "    <tr>\n",
       "      <th>4</th>\n",
       "      <td>54</td>\n",
       "      <td>150</td>\n",
       "      <td>122</td>\n",
       "      <td>0.0</td>\n",
       "      <td>0</td>\n",
       "      <td>1</td>\n",
       "      <td>0</td>\n",
       "      <td>1</td>\n",
       "      <td>0</td>\n",
       "      <td>1</td>\n",
       "      <td>0</td>\n",
       "      <td>0</td>\n",
       "      <td>0</td>\n",
       "      <td>1</td>\n",
       "    </tr>\n",
       "  </tbody>\n",
       "</table>\n",
       "</div>"
      ],
      "text/plain": [
       "   Age  RestingBP  MaxHR  Oldpeak  HeartDisease  Sex_M  ChestPainType_ATA  \\\n",
       "0   40        140    172      0.0             0      1                  1   \n",
       "1   49        160    156      1.0             1      0                  0   \n",
       "2   37        130     98      0.0             0      1                  1   \n",
       "3   48        138    108      1.5             1      0                  0   \n",
       "4   54        150    122      0.0             0      1                  0   \n",
       "\n",
       "   ChestPainType_NAP  ChestPainType_TA  RestingECG_Normal  RestingECG_ST  \\\n",
       "0                  0                 0                  1              0   \n",
       "1                  1                 0                  1              0   \n",
       "2                  0                 0                  0              1   \n",
       "3                  0                 0                  1              0   \n",
       "4                  1                 0                  1              0   \n",
       "\n",
       "   ExerciseAngina_Y  ST_Slope_Flat  ST_Slope_Up  \n",
       "0                 0              0            1  \n",
       "1                 0              1            0  \n",
       "2                 0              0            1  \n",
       "3                 1              1            0  \n",
       "4                 0              0            1  "
      ]
     },
     "execution_count": 29,
     "metadata": {},
     "output_type": "execute_result"
    }
   ],
   "source": [
    "heart = pd.get_dummies(heart, drop_first = True)\n",
    "heart.head()"
   ]
  },
  {
   "cell_type": "code",
   "execution_count": 30,
   "id": "ea9c498f",
   "metadata": {
    "execution": {
     "iopub.execute_input": "2021-12-21T23:35:19.480490Z",
     "iopub.status.busy": "2021-12-21T23:35:19.479766Z",
     "iopub.status.idle": "2021-12-21T23:35:19.484773Z",
     "shell.execute_reply": "2021-12-21T23:35:19.485380Z",
     "shell.execute_reply.started": "2021-12-21T21:50:34.237548Z"
    },
    "papermill": {
     "duration": 0.059686,
     "end_time": "2021-12-21T23:35:19.485546",
     "exception": false,
     "start_time": "2021-12-21T23:35:19.425860",
     "status": "completed"
    },
    "tags": []
   },
   "outputs": [],
   "source": [
    "# separing target variable from dataset\n",
    "x = heart.drop('HeartDisease', axis = 1)\n",
    "y = heart['HeartDisease']"
   ]
  },
  {
   "cell_type": "code",
   "execution_count": 31,
   "id": "1a5844cc",
   "metadata": {
    "execution": {
     "iopub.execute_input": "2021-12-21T23:35:19.590608Z",
     "iopub.status.busy": "2021-12-21T23:35:19.589994Z",
     "iopub.status.idle": "2021-12-21T23:35:19.747155Z",
     "shell.execute_reply": "2021-12-21T23:35:19.747650Z",
     "shell.execute_reply.started": "2021-12-21T21:50:35.752738Z"
    },
    "papermill": {
     "duration": 0.211338,
     "end_time": "2021-12-21T23:35:19.747835",
     "exception": false,
     "start_time": "2021-12-21T23:35:19.536497",
     "status": "completed"
    },
    "tags": []
   },
   "outputs": [
    {
     "name": "stderr",
     "output_type": "stream",
     "text": [
      "/opt/conda/lib/python3.7/site-packages/sklearn/preprocessing/_data.py:2370: UserWarning: n_quantiles (1000) is greater than the total number of samples (918). n_quantiles is set to n_samples.\n",
      "  % (self.n_quantiles, n_samples))\n"
     ]
    }
   ],
   "source": [
    "# scaling data\n",
    "from sklearn.preprocessing import QuantileTransformer\n",
    "qt = QuantileTransformer()\n",
    "x = qt.fit_transform(x)"
   ]
  },
  {
   "cell_type": "markdown",
   "id": "283286e5",
   "metadata": {
    "papermill": {
     "duration": 0.052362,
     "end_time": "2021-12-21T23:35:19.851852",
     "exception": false,
     "start_time": "2021-12-21T23:35:19.799490",
     "status": "completed"
    },
    "tags": []
   },
   "source": [
    "## Creating a model"
   ]
  },
  {
   "cell_type": "code",
   "execution_count": 32,
   "id": "dad57858",
   "metadata": {
    "execution": {
     "iopub.execute_input": "2021-12-21T23:35:19.966169Z",
     "iopub.status.busy": "2021-12-21T23:35:19.965431Z",
     "iopub.status.idle": "2021-12-21T23:35:20.473657Z",
     "shell.execute_reply": "2021-12-21T23:35:20.473063Z",
     "shell.execute_reply.started": "2021-12-21T21:50:41.590904Z"
    },
    "papermill": {
     "duration": 0.565966,
     "end_time": "2021-12-21T23:35:20.473799",
     "exception": false,
     "start_time": "2021-12-21T23:35:19.907833",
     "status": "completed"
    },
    "tags": []
   },
   "outputs": [],
   "source": [
    "from sklearn.model_selection import RepeatedStratifiedKFold\n",
    "from sklearn.metrics import precision_score, accuracy_score, recall_score, confusion_matrix\n",
    "\n",
    "stk = RepeatedStratifiedKFold(n_splits = 5, n_repeats = 100)\n",
    "for train_index, test_index in stk.split(x, y):\n",
    "    x_train, x_test = x[train_index], x[test_index]\n",
    "    y_train, y_test = y[train_index], y[test_index]"
   ]
  },
  {
   "cell_type": "code",
   "execution_count": 33,
   "id": "d7b03da4",
   "metadata": {
    "execution": {
     "iopub.execute_input": "2021-12-21T23:35:20.580357Z",
     "iopub.status.busy": "2021-12-21T23:35:20.578309Z",
     "iopub.status.idle": "2021-12-21T23:35:20.688634Z",
     "shell.execute_reply": "2021-12-21T23:35:20.689500Z",
     "shell.execute_reply.started": "2021-12-21T21:50:46.912735Z"
    },
    "papermill": {
     "duration": 0.164987,
     "end_time": "2021-12-21T23:35:20.689804",
     "exception": false,
     "start_time": "2021-12-21T23:35:20.524817",
     "status": "completed"
    },
    "tags": []
   },
   "outputs": [
    {
     "data": {
      "text/plain": [
       "LogisticRegression(max_iter=1000)"
      ]
     },
     "execution_count": 33,
     "metadata": {},
     "output_type": "execute_result"
    }
   ],
   "source": [
    "from sklearn.linear_model import LogisticRegression\n",
    "\n",
    "regression = LogisticRegression(max_iter = 1000)\n",
    "regression.fit(x_train, y_train)"
   ]
  },
  {
   "cell_type": "code",
   "execution_count": 34,
   "id": "2c7e3e91",
   "metadata": {
    "execution": {
     "iopub.execute_input": "2021-12-21T23:35:20.850046Z",
     "iopub.status.busy": "2021-12-21T23:35:20.847093Z",
     "iopub.status.idle": "2021-12-21T23:35:20.858330Z",
     "shell.execute_reply": "2021-12-21T23:35:20.859362Z",
     "shell.execute_reply.started": "2021-12-21T21:50:52.684039Z"
    },
    "papermill": {
     "duration": 0.07032,
     "end_time": "2021-12-21T23:35:20.859645",
     "exception": false,
     "start_time": "2021-12-21T23:35:20.789325",
     "status": "completed"
    },
    "tags": []
   },
   "outputs": [
    {
     "name": "stdout",
     "output_type": "stream",
     "text": [
      "Accuracy model:  0.8585034013605443\n",
      "Accuracy prediction:  0.8524590163934426\n"
     ]
    }
   ],
   "source": [
    "print('Accuracy model: ', regression.score(x_train, y_train))\n",
    "print('Accuracy prediction: ', accuracy_score(regression.predict(x_test), y_test))"
   ]
  },
  {
   "cell_type": "code",
   "execution_count": 35,
   "id": "e70ce76f",
   "metadata": {
    "execution": {
     "iopub.execute_input": "2021-12-21T23:35:21.021607Z",
     "iopub.status.busy": "2021-12-21T23:35:21.020747Z",
     "iopub.status.idle": "2021-12-21T23:35:21.264236Z",
     "shell.execute_reply": "2021-12-21T23:35:21.263587Z",
     "shell.execute_reply.started": "2021-12-21T21:51:00.761197Z"
    },
    "papermill": {
     "duration": 0.306083,
     "end_time": "2021-12-21T23:35:21.264386",
     "exception": false,
     "start_time": "2021-12-21T23:35:20.958303",
     "status": "completed"
    },
    "tags": []
   },
   "outputs": [
    {
     "data": {
      "text/plain": [
       "<AxesSubplot:>"
      ]
     },
     "execution_count": 35,
     "metadata": {},
     "output_type": "execute_result"
    },
    {
     "data": {
      "image/png": "[encoded data removed]",
      "text/plain": [
       "<Figure size 432x288 with 2 Axes>"
      ]
     },
     "metadata": {
      "needs_background": "light"
     },
     "output_type": "display_data"
    }
   ],
   "source": [
    "sns.heatmap(confusion_matrix(regression.predict(x_test), y_test), annot = True)"
   ]
  }
 ],
 "metadata": {
  "kernelspec": {
   "display_name": "Python 3",
   "language": "python",
   "name": "python3"
  },
  "language_info": {
   "codemirror_mode": {
    "name": "ipython",
    "version": 3
   },
   "file_extension": ".py",
   "mimetype": "text/x-python",
   "name": "python",
   "nbconvert_exporter": "python",
   "pygments_lexer": "ipython3",
   "version": "3.7.12"
  },
  "papermill": {
   "default_parameters": {},
   "duration": 20.694549,
   "end_time": "2021-12-21T23:35:22.128065",
   "environment_variables": {},
   "exception": null,
   "input_path": "__notebook__.ipynb",
   "output_path": "__notebook__.ipynb",
   "parameters": {},
   "start_time": "2021-12-21T23:35:01.433516",
   "version": "2.3.3"
  }
 },
 "nbformat": 4,
 "nbformat_minor": 5
}
